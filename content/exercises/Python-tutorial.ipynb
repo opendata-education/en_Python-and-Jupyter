{
 "cells": [
  {
   "cell_type": "markdown",
   "metadata": {},
   "source": [
    "# Using Python on Jupyter"
   ]
  },
  {
   "cell_type": "markdown",
   "metadata": {},
   "source": [
    "This notebook has information about Python and different functions that could be useful for getting started. We have also included some examples about how the functions could be used.\n",
    "\n",
    "How to use this document: run the cell that imports the needed libraries at the **part 2** and then move to the part you're looking for. Because of this, different functions are defined multiple times in this document in order to mitigate the need to scroll up and down in the notebook.\n",
    "\n",
    "If you don't remember how some features work in these notebooks, press the **h**-button when you haven't chosen any cells, and you'll see a list of the shortcuts of Jupyter."
   ]
  },
  {
   "cell_type": "markdown",
   "metadata": {},
   "source": [
    "1. [The starting point](#start)\n",
    "2. [Libraries](#libraries)\n",
    "3. [Data structures and analysis](#structures)\n",
    "4. [Basic operations](#operations)\n",
    "5. [Generating random values](#random)\n",
    "6. [Plotting figures](#plotting)\n",
    "7. [Animations](#animations)\n",
    "8. [Maps and heat maps](#maps)\n",
    "9. [Common problems](#problems)"
   ]
  },
  {
   "cell_type": "markdown",
   "metadata": {},
   "source": [
    "<a id=\"start\"></a>\n",
    "### 1. The starting point"
   ]
  },
  {
   "cell_type": "markdown",
   "metadata": {},
   "source": [
    "In programming, you can save different values to **variables**, which can then be used or changed later. Different variable types are for example the integer (int), floating point number (float), and a string of characters (string). In Python defining new variables is easy since the type of the variable doesn't have to be defined.\n",
    "\n",
    "Sometimes the core that runs the code, **kernel**, has a malfunction. This happens from time to time. When it happens, you can click 'Kernel' and 'Restart & Clear Output', when the processes and outputs are wiped from the memory. However, doing this doesn't change the code or text, so it doesn't fix bugs."
   ]
  },
  {
   "cell_type": "markdown",
   "metadata": {},
   "source": [
    "<a id=\"libraries\"></a>\n",
    "### 2. Libraries"
   ]
  },
  {
   "cell_type": "markdown",
   "metadata": {},
   "source": [
    "Python is a programming language suitable for scientific computing. One of its core principles is the use of different function libraries. These libraries are imported using the **import**-command.\n",
    "\n",
    "When you take a look at the materials provided in the Open Data project, you'll notice that every GitHub folder has a text file \"requirements.txt\" that enables for example [MyBinder](www.mybinder.org) to build a workspace for Jupyter. From the file you can see that the most important libraries we're going to use are:"
   ]
  },
  {
   "cell_type": "code",
   "execution_count": null,
   "metadata": {},
   "outputs": [],
   "source": [
    "#The most essential libraries:\n",
    "\n",
    "import pandas as pd   #contains tools for data analysis\n",
    "import numpy as np   #contains tools for numerical analysis\n",
    "import matplotlib.pyplot as plt  #contains tools for plotting figures\n",
    "\n",
    "#Other useful libraries:\n",
    "\n",
    "import random as rand   #contains functions for generating pseudo-random numbers\n",
    "from scipy import stats    #contains scientific computing and statistics sisältää tieteellistä laskentaa ja tilastolaskentaa\n",
    "from scipy.stats import norm    #tools for analyzing normal distribution\n",
    "import matplotlib.mlab as mlab  #advanced tools for plotting figures"
   ]
  },
  {
   "cell_type": "markdown",
   "metadata": {},
   "source": [
    "Remember to run the cell above if you want the examples in this notebook to work. The above could also be written without **as**-command, which renames the packages, but it enables us to use short names for the libraries, which becomes handy when we use them a lot. If you want to read more about libraries, click on 'Help' at the top of the page and you'll find links for more precise documentation and formatting instructions.\n",
    "\n",
    "There are many more libraries in Python and you can search for them when you need them. There are thousands of useful examples and materials on the internet, thanks to Python's large user base. [StackExchange](https://stackexchange.com/) and [StackOverFlow](https://stackoverflow.com/) are great places for searching for answers to your questions."
   ]
  },
  {
   "cell_type": "markdown",
   "metadata": {},
   "source": [
    "<a id=\"structures\"></a>\n",
    "### 3. Data structures and analysis"
   ]
  },
  {
   "cell_type": "markdown",
   "metadata": {},
   "source": [
    "**In short:**\n",
    "\n",
    "Reading a csv-file $\\rightarrow$ \n",
    "``` Python \n",
    "name = pd.read_csv('path', formatting arguments)\n",
    "```  \n",
    "Reading a table $\\rightarrow$ \n",
    "``` Python\n",
    "pd.read_table('path', formatting arguments)\n",
    "``` \n",
    "Getting the first *n* rows of a table $\\rightarrow$ \n",
    "``` Python\n",
    "name.head(n)  \n",
    "``` \n",
    "Length $\\rightarrow$ \n",
    "``` Python\n",
    "len(name)  \n",
    "``` \n",
    "Shape $\\rightarrow$ \n",
    "``` Python\n",
    "name.shape \n",
    "``` \n",
    "Column $\\rightarrow$ \n",
    "``` Python\n",
    "name.column \n",
    "name['column'] \n",
    "``` \n",
    "Specifying an interval $\\rightarrow$ \n",
    "``` Python\n",
    "name[(name.column >= lower_limit) & (name.column <= upper_limit)]  \n",
    "``` \n",
    "Searching for text $\\rightarrow$ \n",
    "``` Python\n",
    "name['column'].str.contains('string')  \n",
    "``` \n",
    "Add a column $\\rightarrow$ \n",
    "``` Python\n",
    "name = name.assign(column = data) \n",
    "``` \n",
    "Remove columns $\\rightarrow$ \n",
    "``` Python\n",
    "name.drop(['column1','column2'...], axis = 1)\n",
    "``` \n"
   ]
  },
  {
   "cell_type": "markdown",
   "metadata": {},
   "source": [
    "In our exercises the data is often in .csv-form (comma separated values). Data in this form is very easy to read as a table with the use of *pandas* library. *Pandas* transforms the csv-file into a two-dimensional DataFrame. You can find more information about it [here](https://pandas.pydata.org/pandas-docs/stable/generated/pandas.DataFrame.html), where you can also find more information about the different ways you can analyze and process the data.\n",
    "\n",
    "The easiest ways to read the data are using the functions **pd.read_csv** and **pd.read_table**. If data is nice (separated by comma, headers included, etc.), other operations are usually not needed."
   ]
  },
  {
   "cell_type": "code",
   "execution_count": null,
   "metadata": {},
   "outputs": [],
   "source": [
    "#Read a dataset of particle data into a variable and give it a name:\n",
    "\n",
    "doublemuons = pd.read_csv('http://opendata.cern.ch/record/545/files/Dimuon_DoubleMu.csv')"
   ]
  },
  {
   "cell_type": "markdown",
   "metadata": {},
   "source": [
    "As you can see, you can read a table straight from a URL-address to a variable. If you have a file in a folder, you can read it using a file path: **'../folder/file.csv'**.\n",
    "\n",
    "If the data is in some other text form, you can try the more common **read_table** -command, that understands other tabular texts as well. The most common problem is that the text is separated with something else than comma, such as a tabulator or a semicolon. In that case you can add the argument **sep = 'x'**, where x is the character used as a separator. Another common problem is that the headers of the columns aren't in the first row. In this case we can use the argument **header = n**, where n is the number of the header row. Note: the numbers start at zero unless otherwise spesified.\n",
    "\n",
    "More information about the possible arguments [here](https://pandas.pydata.org/pandas-docs/stable/generated/pandas.read_csv.html). \n",
    "\n",
    "Below we have an example of a dataset that doesn't have a header row. The set contains observations of the Sun from the year 1992 forward. More information about the meaning of each column can be found [here](http://sidc.oma.be/silso/infosndhem)."
   ]
  },
  {
   "cell_type": "code",
   "execution_count": null,
   "metadata": {},
   "outputs": [],
   "source": [
    "#Read the dataset and name it:\n",
    "\n",
    "sun = pd.read_table('http://sidc.oma.be/silso/INFO/sndhemcsv.php', sep = ';', encoding = \"ISO-8859-1\")"
   ]
  },
  {
   "cell_type": "markdown",
   "metadata": {},
   "source": [
    "For clarity, let's see how our data looks like. For this the **name.head(n)**-command works well. It shows the n first rows of the data. By default n = 5, if you have empty parentheses."
   ]
  },
  {
   "cell_type": "code",
   "execution_count": null,
   "metadata": {},
   "outputs": [],
   "source": [
    "pd.set_option('display.max_columns',None)\n",
    "doublemuons.head()"
   ]
  },
  {
   "cell_type": "code",
   "execution_count": null,
   "metadata": {},
   "outputs": [],
   "source": [
    "sun.head()"
   ]
  },
  {
   "cell_type": "markdown",
   "metadata": {},
   "source": [
    "From the above we can see that the first real row of the **sun**-variable is used as a header. This is unfortunate because 1) now the headers are misleading and 2) We won't be able to use the data from the first row in our analysis. Let's solve the problem by using **header = -1**, a row that doesn't exist, as the header argument.\n",
    "\n",
    "Ylläolevista nähdään, että **aurinko**-muuttujan ensimmäinen oikea rivi on kaapattu otsikoiksi, mikä on sikäli ikävää että 1) nyt otsikot ovat hämääviä ja 2) meiltä jää yhden rivin verran dataa käsittelemättä jos haluamme vaikkapa kuvaajan taulukon jostain sarakkeesta. Ratkaistaan asia laittamalla dataa ladattaessa otsikointiargumentiksi **header = -1**, eli rivi jota ei ole olemassa, jolloin kone tuottaa siihen järjestyslukurivin."
   ]
  },
  {
   "cell_type": "code",
   "execution_count": null,
   "metadata": {},
   "outputs": [],
   "source": [
    "sun = pd.read_table('http://sidc.oma.be/silso/INFO/sndhemcsv.php', sep = ';', encoding = \"ISO-8859-1\", header = None)\n",
    "sun.head()"
   ]
  },
  {
   "cell_type": "markdown",
   "metadata": {},
   "source": [
    "If we want to change the headers, we can of course name the columns using the argument **names = ['name1','name2','name3']**"
   ]
  },
  {
   "cell_type": "code",
   "execution_count": null,
   "metadata": {},
   "outputs": [],
   "source": [
    "sun = pd.read_table('http://sidc.oma.be/silso/INFO/sndhemcsv.php', sep=';', encoding = \"ISO-8859-1\", header = None, \n",
    "names = ['Year','Month','Day','Fraction','$P_{tot}$','$P_{poh}$','$P_{et}$','$\\sigma_{tot}$','$\\sigma_{poh}$',\n",
    "         '$\\sigma_{et}$','$N_{tot}$','$N_{poh}$','$N_{et}$','Prov'])\n",
    "sun.head()"
   ]
  },
  {
   "cell_type": "markdown",
   "metadata": {},
   "source": [
    "Among the **name.heads()** command there are some other small commands that are useful when studying the shape of the data. **len(name)** tells us the amount of rows, while **name.shape** tells us the amount of rows and columns."
   ]
  },
  {
   "cell_type": "code",
   "execution_count": null,
   "metadata": {},
   "outputs": [],
   "source": [
    "#Usually the output of a code cell shows only the latest given function. We can output multiple values with the print()-command .\n",
    "#You can try out what happens if you remove the print()-command.\n",
    "\n",
    "print (len(sun))\n",
    "print (sun.shape)"
   ]
  },
  {
   "cell_type": "markdown",
   "metadata": {},
   "source": [
    "Now that data has been imported in a sufficient form, we can start editing it for our own purposes. Usually we are interested in a specific variable within the data, so we must be able to choose specific columns from the original data and choose only the rows in which a certain variable's values is within some bounds.\n",
    "\n",
    "A column can be chosen by writing **name.column** or **name['column']**. Square brackets are necessary in cases where the name of the column starts with a number, which the machine may interpret as a an ordinal number. If you want to make your life easier and you don't care about the other columns, it is useful to save the column into a variable with **newName = name.column*. "
   ]
  },
  {
   "cell_type": "code",
   "execution_count": null,
   "metadata": {},
   "outputs": [],
   "source": [
    "# Save the column that contains the invariant masses in our muon data. The column is named as 'M'.\n",
    "\n",
    "iMasses = doublemuons.M\n",
    "iMasses.head()"
   ]
  },
  {
   "cell_type": "markdown",
   "metadata": {},
   "source": [
    "Selecting rows happens similarly by creating a new variable that contains the elements in the original data that meet the given criteria. For example, choosing an interval would be \n",
    "``` Python\n",
    "newName = name[(name.column >= lower_limit) & (name.column <= upper_limit)]\n",
    "```\n",
    "The condition can be any other logical element, such as a certain number or a piece of text in non-numerical data."
   ]
  },
  {
   "cell_type": "code",
   "execution_count": null,
   "metadata": {},
   "outputs": [],
   "source": [
    "# Let's choose the rows in the particle data where the energy of both particles is more than or equal to 30 GeV.\n",
    "over30 = doublemuons[(doublemuons.E1 >= 30) & (doublemuons.E2 >= 30)]\n",
    "over30.head()"
   ]
  },
  {
   "cell_type": "code",
   "execution_count": null,
   "metadata": {},
   "outputs": [],
   "source": [
    "print (len(over30))\n",
    "print (len(doublemuons))"
   ]
  },
  {
   "cell_type": "markdown",
   "metadata": {},
   "source": [
    "If we want multiple columns without choosing specific rows, we can write\n",
    "``` python\n",
    "newVariable = oldVariable[['column1', 'column2', ...]]\n",
    "```"
   ]
  },
  {
   "cell_type": "markdown",
   "metadata": {},
   "source": [
    "If we want to search for a piece of text, we can use te **name.loc**-function in the following way:\n",
    "``` Python\n",
    "newVariable = oldVariable.loc[oldVariable['column'] == 'piece_of_text']\n",
    "```\n",
    "\n",
    "In that case we would have to know what we are exactly looking for. If you want to find some instances that contain a piece of text, we can use the **contains**-function. The command\n",
    "``` Python\n",
    "newName= oldName[oldName['column'].str.contains('piece_of_text')]\n",
    "```\n",
    "creates a new variable that has the rows that contain the piece of text we are looking for. By default, the function cares about the letter size, but we can change this by writing\n",
    "``` Python\n",
    "newName= oldName[oldName['column'].str.contains('piece_of_text', case = False)]\n",
    "```\n",
    "Please note that **str.contains()** in itself is a logical operation that returns true or false from a given question. Negation works as well, such as removing all the joint-stock companies from a list of Finnish alcohol manufacturers (these include 'Oy' or 'Oyj' in their name)."
   ]
  },
  {
   "cell_type": "code",
   "execution_count": null,
   "metadata": {},
   "outputs": [],
   "source": [
    "drinks = pd.read_csv('http://avoindata.valvira.fi/alkoholi/alkoholilupa_valmistus.csv', sep = ';', encoding = \"ISO-8859-1\", na_filter = False)\n",
    "drinks.head()"
   ]
  },
  {
   "cell_type": "code",
   "execution_count": null,
   "metadata": {},
   "outputs": [],
   "source": [
    "specificManufacturer = drinks[drinks['Nimi'].str.contains('Oy') == False]\n",
    "print (len(drinks))\n",
    "print (len(specificManufacturer))"
   ]
  },
  {
   "cell_type": "markdown",
   "metadata": {},
   "source": [
    "If you want to add or remove columns from the data, you can use the functions **name = name.assign(column = data)** and **name.drop(['column1','column2'...], axis = 1)**. In the drop-function setting the **axis** parameter to 1 tells the function to choose the column."
   ]
  },
  {
   "cell_type": "code",
   "execution_count": null,
   "metadata": {},
   "outputs": [],
   "source": [
    "# Removing a column with the drop-function.\n",
    "\n",
    "drinks = drinks.drop(['Nimi'], axis = 1)\n",
    "drinks.head()"
   ]
  },
  {
   "cell_type": "code",
   "execution_count": null,
   "metadata": {},
   "outputs": [],
   "source": [
    "# Adding a column with the assign-method.\n",
    "# Let's add a column R that contains numbers.\n",
    "# The column can contain numbers, text, etc. Just make sure that the column has the right size.\n",
    "\n",
    "numbers = np.linspace(0, 100, len(drinks))\n",
    " \n",
    "drinks = drinks.assign(R = numbers)\n",
    "drinks.head()\n"
   ]
  },
  {
   "cell_type": "markdown",
   "metadata": {},
   "source": [
    "<a id=\"operations\"></a>\n",
    "### 4. Basic operations"
   ]
  },
  {
   "cell_type": "markdown",
   "metadata": {},
   "source": [
    "**In short:**\n",
    "\n",
    "Absolute value $\\rightarrow$ \n",
    "``` Python\n",
    "abs(x)  \n",
    "``` \n",
    "Addition $\\rightarrow$ \n",
    "``` python\n",
    "x + y \n",
    "``` \n",
    "Subtraction $\\rightarrow$\n",
    "```  python\n",
    "x - y  \n",
    "``` \n",
    "Division $\\rightarrow$\n",
    "```  python\n",
    "x/y  \n",
    "``` \n",
    "Multiplication $\\rightarrow$\n",
    "``` python\n",
    "x*y  \n",
    "``` \n",
    "Power $\\rightarrow$ \n",
    "```  python\n",
    "x**y  \n",
    "``` \n",
    "Maximum value $\\rightarrow$\n",
    "```  python\n",
    "max(x)  \n",
    "``` \n",
    "Minimum value $\\rightarrow$ \n",
    "```  python\n",
    "min(x)  \n",
    "``` \n",
    "Defining a custom function $\\rightarrow$ \n",
    "```  python\n",
    "def name(input):\n",
    "    operations\n",
    "    \n",
    "``` \n",
    "Square root $\\rightarrow$\n",
    "```  Python\n",
    "math.sqrt(x)\n",
    "``` \n",
    "or\n",
    "```  Python\n",
    "np.sqrt(x)\n",
    "``` "
   ]
  },
  {
   "cell_type": "markdown",
   "metadata": {},
   "source": [
    "There is nothing extraordinary with the basic operations. If you want the program to print multiple things at once, use the **print()**-function. Text and numbers can also be combined with the help of the **repr(numbers)**-function. It returns a printable version of its input. Python has a large number of built-in functions, which you can find from this [list](https://docs.python.org/3/library/functions.html). Additionally, [here](https://docs.python.org/3/library/stdtypes.html) is some information about the built-in types of Python."
   ]
  },
  {
   "cell_type": "code",
   "execution_count": null,
   "metadata": {},
   "outputs": [],
   "source": [
    "# You can modify the content of the 'number'-variable to try out different operations.\n",
    "\n",
    "number = 14*2+5/2\n",
    "text = 'The result: '\n",
    "print (text + repr(number))"
   ]
  },
  {
   "cell_type": "code",
   "execution_count": null,
   "metadata": {},
   "outputs": [],
   "source": [
    "# max() returns the largest item of an iterable.\n",
    "\n",
    "someNumbers = [3,6,12,67,578,2,5,12,-34]\n",
    "\n",
    "print('The largest numbers is ' + repr(max(someNumbers)))"
   ]
  },
  {
   "cell_type": "markdown",
   "metadata": {},
   "source": [
    "More interestingly, you can build your own functions in Python. You **define** the name of the function and its effect by writing\n",
    "``` Python\n",
    "def functionName(input):  \n",
    "    description indented\n",
    "```"
   ]
  },
  {
   "cell_type": "code",
   "execution_count": null,
   "metadata": {},
   "outputs": [],
   "source": [
    "# Let's make a function that halves the number it receives as an input.\n",
    "\n",
    "def halve(a):\n",
    "    print(a/2)\n",
    "    \n",
    "halve(6)"
   ]
  },
  {
   "cell_type": "code",
   "execution_count": null,
   "metadata": {},
   "outputs": [],
   "source": [
    "# Let's make a function that asks users for integers and calculates the sum of them.\n",
    "\n",
    "def sum_of_inputs(x,y):\n",
    "    sum_of_two = x + y\n",
    "    sentence = '{} + {} equals {}.'.format(x, y, sum_of_two)\n",
    "    print(sentence)\n",
    "    \n",
    "def freeChoice():\n",
    "    a = int(input(\"Input an integer: \"))\n",
    "    b = int(input(\"Input another integer: \"))\n",
    "    sum_of_inputs(a, b)\n",
    "\n",
    "freeChoice() "
   ]
  },
  {
   "cell_type": "code",
   "execution_count": null,
   "metadata": {},
   "outputs": [],
   "source": [
    "# Let's make a function that returns a given list of radians as degrees of arc. \n",
    "# A while-loop goes through the list and performs an operation on each of the elements.\n",
    "\n",
    "def radsToDegrees(a):\n",
    "    i=0\n",
    "    while i < len(a):\n",
    "        a[i] = a[i]*360/(2*np.pi)\n",
    "        i+=1\n",
    "    return a;\n",
    "\n",
    "radians = [5,2,4,2,1,3]\n",
    "radsToDegrees(radians)\n",
    "print(radians)"
   ]
  },
  {
   "cell_type": "code",
   "execution_count": null,
   "metadata": {},
   "outputs": [],
   "source": [
    "# Or the same with a for-loop:\n",
    "\n",
    "def radsToDegrees2(a):\n",
    "    for i in range(0,len(a)):\n",
    "        a[i] = a[i]*360/(2*np.pi)\n",
    "    return a;\n",
    "    \n",
    "rad = [1,2,3,5,6]\n",
    "radsToDegrees2(rad)\n",
    "print(rad)\n"
   ]
  },
  {
   "cell_type": "markdown",
   "metadata": {},
   "source": [
    "<a id=\"random\"></a>\n",
    "### 5. Generating random values"
   ]
  },
  {
   "cell_type": "markdown",
   "metadata": {},
   "source": [
    "**In short:**\n",
    "\n",
    "A random integer $\\rightarrow$ \n",
    "``` python\n",
    "rand.randint(lower_limit,upper_limit)\n",
    "``` \n",
    "A random integer between 0 and 1 $\\rightarrow$ \n",
    "``` python\n",
    "rand.random()  \n",
    "``` \n",
    "A random collection from a list $\\rightarrow$\n",
    "``` python\n",
    "rand.choices(list, weights, k = count)  \n",
    "``` \n",
    "A random collection from a population $\\rightarrow$ \n",
    "``` python\n",
    "rand.sample(collection, k = count)  \n",
    "``` \n",
    "Normal distribution $\\rightarrow$\n",
    "``` python\n",
    "rand.normalvariate(mean, standard_deviation)  \n",
    "``` \n",
    "Evenly spaced numbers $\\rightarrow$ \n",
    "``` python\n",
    "np.linspace(start, end, num = the number of samples)  \n",
    "``` \n",
    "Evenly spaced numbers $\\rightarrow$ \n",
    "``` python\n",
    "np.arange(start, end, stepsize)\n",
    "``` \n"
   ]
  },
  {
   "cell_type": "markdown",
   "metadata": {},
   "source": [
    "Sometimes it is useful to create simulations or random measurements for the analysis. While the development of advanced [Monte Carlo simulations](https://en.wikipedia.org/wiki/Monte_Carlo_method) is beyond the objectives of this manual, we can take a look at some ways we can produce random numbers. However, it is important to remember that ordinary methods for creating randomness with computers are pseudorandom deterministic processes, and they shouln't be used for high-secrecy and confidential purposes."
   ]
  },
  {
   "cell_type": "code",
   "execution_count": null,
   "metadata": {},
   "outputs": [],
   "source": [
    "# Create a random integer within a wanted interval.\n",
    "\n",
    "lottery_ticket = rand.randint(1,100)\n",
    "text = 'The winning ticket of the day is: '\n",
    "print(text + repr(lottery_ticket))"
   ]
  },
  {
   "cell_type": "code",
   "execution_count": null,
   "metadata": {},
   "outputs": [],
   "source": [
    "# Create a random floating point number between 0 and 1 multiplied by 5.\n",
    "\n",
    "number = rand.random()*5\n",
    "print(number)"
   ]
  },
  {
   "cell_type": "code",
   "execution_count": null,
   "metadata": {},
   "outputs": [],
   "source": [
    "# Remove some arbitrary elements from a list, but make some choices more likely than others.\n",
    "\n",
    "nameForChildren = ['James', 'Anthony', 'Mary', 'Paul', 'Sara','Linda']\n",
    "weightedProbs = [10,30,20,50,5,5]\n",
    "\n",
    "# Define how many names we want, k = wanted. Choices-function can take the same results multiple times.\n",
    "\n",
    "names= rand.choices(nameForChildren, weights = weightedProbs, k = 3)\n",
    "print(names)"
   ]
  },
  {
   "cell_type": "code",
   "execution_count": null,
   "metadata": {},
   "outputs": [],
   "source": [
    "# Now without duplicates.\n",
    "\n",
    "students = ['James', 'Anthony', 'Mary', 'Paul', 'Sara','Linda']\n",
    "threeVolunteers = rand.sample(students, k = 3)\n",
    "print(threeVolunteers)"
   ]
  },
  {
   "cell_type": "code",
   "execution_count": null,
   "metadata": {},
   "outputs": [],
   "source": [
    "# A random number from a normal distribution (mean, standard deviation).\n",
    "\n",
    "number = rand.normalvariate(3,0.1)\n",
    "print(number)"
   ]
  },
  {
   "cell_type": "code",
   "execution_count": null,
   "metadata": {},
   "outputs": [],
   "source": [
    "#Let's create an evenly spaced list of numbers between 1 and 10 and randomize it a bit.\n",
    "\n",
    "listOfNumbers = np.linspace(1, 10, 200)\n",
    "\n",
    "def randomizer(a):\n",
    "    b = a.copy()\n",
    "    \n",
    "    for i in range(0,len(b)):\n",
    "        b[i] = b[i]*rand.uniform(0,b[i])\n",
    "    return b;\n",
    "\n",
    "result = randomizer(listOfNumbers)\n",
    "# print(listOfNumbers)\n",
    "# print(result)\n",
    "\n",
    "fig = plt.figure(figsize=(15, 10))\n",
    "plt.plot(result,'g*')\n",
    "plt.show()"
   ]
  },
  {
   "cell_type": "code",
   "execution_count": null,
   "metadata": {},
   "outputs": [],
   "source": [
    "# Another way to produce an evenly spaced array of numbers [a,b[ with the command arange(a,b,c), where c is the stepsize.\n",
    "# The function may not always work properly if c is not an integer. Note that b is excluded from the array.\n",
    "\n",
    "# Toinen tapa tuottaa tasaisesti jaettu lukujoukko [a,b[ komennolla arange(a,b,c) missä c on askeleen koko.\n",
    "# Toiminto voi joskus häröillä jos c ei ole kokonaisluku. Huomaa, että b ei kuulu joukkoon.\n",
    "\n",
    "numbers = np.arange(1,10,1)\n",
    "print(numbers)"
   ]
  },
  {
   "cell_type": "markdown",
   "metadata": {},
   "source": [
    "<a id=\"plotting\"></a>\n",
    "### 6. Plotting figures"
   ]
  },
  {
   "cell_type": "markdown",
   "metadata": {},
   "source": [
    "**In short:**\n",
    "\n",
    "Basic plot $\\rightarrow$\n",
    "``` python\n",
    "plt.plot(name, 'style and colour', properties)\n",
    "``` \n",
    "Scatterplot $\\rightarrow$\n",
    "``` python\n",
    "plt.scatter(x-data, y-data, marker = 'marker style', color = 'color', properties)\n",
    "``` \n",
    "Histogram $\\rightarrow$\n",
    "``` python\n",
    "plt.hist(name, bins, range = (start, end), properties)\n",
    "``` \n",
    "Legend $\\rightarrow$\n",
    "``` python\n",
    "plt.legend(properties)\n",
    "``` \n",
    "Display all open figures $\\rightarrow$\n",
    "``` python\n",
    "plt.show()\n",
    "``` \n",
    "Fit a normal distribution to the data $\\rightarrow$\n",
    "``` python\n",
    "(mu, sigma) = norm.fit(name)\n",
    "``` \n",
    "Change the formulation and the name of a figure $\\rightarrow$\n",
    "``` python\n",
    "plt.xlabel('name for the x-label')\n",
    "plt.title('title')\n",
    "fig = plt.figure(figsize=(width, height))\n",
    "\n",
    "```\n",
    "Plot the error bars $\\rightarrow$\n",
    "```python\n",
    "plt.errorbar(value1, value2, xerr = error1, yerr = error2, fmt = 'none')\n",
    "```\n"
   ]
  },
  {
   "cell_type": "markdown",
   "metadata": {},
   "source": [
    "Figures are perhaps the most important reason to use programming in science education. It is easy and effortless to make clear visualizations of large amounts of data. Different use cases require different methods, the most common of which are presented here.\n",
    "\n",
    "The colours and markers of figures can freely be changed. [Here](https://matplotlib.org/stable/api/markers_api.html) is a list of markers."
   ]
  },
  {
   "cell_type": "code",
   "execution_count": null,
   "metadata": {},
   "outputs": [],
   "source": [
    "# A basic plot with the plot-function.\n",
    "\n",
    "numbers = [1,3,54,45,52,34,4,1,2,3,2,4,132,12,12,21,12,12,21,34,2,8]\n",
    "plt.plot(numbers, 'b*')\n",
    "\n",
    "# It is a good idea to put plt.show() to the end of plotting. \n",
    "# A plot can be seen without it as well, but sometimes it only shows a memory address or some unrecognizable junk. \n",
    "# plt.show() fixes this.\n",
    "\n",
    "plt.show()"
   ]
  },
  {
   "cell_type": "code",
   "execution_count": null,
   "metadata": {},
   "outputs": [],
   "source": [
    "# It is useful to give a figure a name in order to make its purpose clearer.\n",
    "# Here you can see how different parts of the figure are named.\n",
    "\n",
    "# Two random datasets:\n",
    "\n",
    "res1 = np.linspace(10, 20, 50)*rand.randint(2,5)\n",
    "res2 = np.linspace(10, 20, 50)*rand.randint(2,5)\n",
    "\n",
    "# Let's plot both of them:\n",
    "\n",
    "plt.plot(res1, 'r^', label = 'Measurement 1')\n",
    "plt.plot(res2, 'b*', label = 'Measurement 2')\n",
    "\n",
    "# Name the axes and the title.\n",
    "\n",
    "plt.xlabel('time (s)', fontsize = 15)\n",
    "plt.ylabel('velocity (m/s)', fontsize = 15)\n",
    "plt.title('Measurements of movement \\n', fontsize = 15) # \\n creates a new row for formulating the title\n",
    "          \n",
    "# Add a legend. If loc-parameter is not specified manually, the legend is automatically placed somewhere where it can fit.\n",
    "\n",
    "plt.legend(loc='upper left', fontsize = 15)\n",
    "\n",
    "# Show the plot.\n",
    "\n",
    "plt.show()"
   ]
  },
  {
   "cell_type": "code",
   "execution_count": null,
   "metadata": {},
   "outputs": [],
   "source": [
    "# Other trigonometric functions can be plotted as well.\n",
    "\n",
    "# The x-axis will be an evenly spaced list of numbers.\n",
    "\n",
    "x = np.linspace(0, 10, 100)\n",
    "\n",
    "# Define the functions to be plotted:\n",
    "\n",
    "y1 = np.sin(x)\n",
    "y2 = np.cos(x)\n",
    "\n",
    "# Plot the functions.\n",
    "\n",
    "plt.plot(x, y1, color = 'b', label = 'sin(x)')\n",
    "plt.plot(x, y2, color = 'g', label = 'cos(x)')\n",
    "\n",
    "plt.legend()\n",
    "\n",
    "plt.show()"
   ]
  },
  {
   "cell_type": "code",
   "execution_count": null,
   "metadata": {},
   "outputs": [],
   "source": [
    "# The default size of a figure in Jupyter is somewhat small. The figsize-parameter helps us to scale images to wanted sizes.\n",
    "# Let's remake the previous figure.\n",
    "\n",
    "x = np.linspace(0, 10, 100)\n",
    "\n",
    "y1 = np.sin(x)\n",
    "y2 = np.cos(x)\n",
    "\n",
    "# Here is defined the size of the figure. You can try out different sizes.\n",
    "\n",
    "fig = plt.figure(figsize=(15, 10))\n",
    "\n",
    "plt.plot(x, y1, color = 'b', label = 'sin(x)')\n",
    "plt.plot(x, y2, color = 'g', label = 'cos(x)')\n",
    "\n",
    "plt.legend()\n",
    "\n",
    "plt.show()"
   ]
  },
  {
   "cell_type": "markdown",
   "metadata": {},
   "source": [
    "Another common figure is the [scatterplot](https://matplotlib.org/api/_as_gen/matplotlib.pyplot.scatter.html), in which both axes are variables. It is commonly used for example in physics research."
   ]
  },
  {
   "cell_type": "code",
   "execution_count": null,
   "metadata": {},
   "outputs": [],
   "source": [
    "def randomizer(a):\n",
    "    b = a.copy()\n",
    "    for i in range(0,len(b)):\n",
    "        b[i] = b[i]*rand.uniform(0,1)\n",
    "    return b;\n",
    "\n",
    "# Take some random data where another variable is spread between 0 to 5 and the other one between 0 to 20.\n",
    "\n",
    "value1 = randomizer(np.linspace(3,5,100))\n",
    "value2 = randomizer(np.linspace(10,20,100))\n",
    "\n",
    "fig = plt.figure(figsize=(10,5))\n",
    "plt.scatter(value1, value2, marker ='*', color = 'b')\n",
    "plt.show()"
   ]
  },
  {
   "cell_type": "code",
   "execution_count": null,
   "metadata": {},
   "outputs": [],
   "source": [
    "# Another scatterplot example. In this one the values of the variables follow the normal distribution.\n",
    "\n",
    "def randomize(a):\n",
    "    b = a.copy()\n",
    "    for i in range(0,len(b)):\n",
    "        b[i] = b[i]*rand.normalvariate(1, 0.1)\n",
    "    return b;\n",
    "\n",
    "value1 = randomize(np.linspace(3,5,100))\n",
    "value2 = randomize(np.linspace(10,20,100))\n",
    "\n",
    "fig = plt.figure(figsize=(10,5))\n",
    "plt.scatter(value1, value2, marker ='*', color = 'b')\n",
    "\n",
    "# Let's add a linear fit to the figure using the method of least squares.\n",
    "\n",
    "slope, intercept, r_value, p_value, std_err = stats.linregress(value1, value2)\n",
    "plt.plot(value1, intercept + slope*value1, 'r', label='Fit')\n",
    "\n",
    "plt.legend(fontsize = 15)\n",
    "plt.show()\n",
    "\n",
    "# If we wanted to know the mathematical properties of the linear fit, we could for example write print(slope) etc.\n",
    "\n",
    "# Jos haluaisi tietää suoran matemaattisia arvoja, voisi kirjoittaa esim. print (slope) jne."
   ]
  },
  {
   "cell_type": "markdown",
   "metadata": {},
   "source": [
    "Another important type of diagram is the histogram, which lets us to represent graphically the relative frequencies in the data. Histograms are used everywhere from particle physics to medicine and social science."
   ]
  },
  {
   "cell_type": "code",
   "execution_count": null,
   "metadata": {},
   "outputs": [],
   "source": [
    "# Let's take a random age distribution and make a histogram of it.\n",
    "\n",
    "def ageGenerator(a):\n",
    "    b = a.copy()\n",
    "    for i in range(0, len(b)):\n",
    "        b[i] = b[i]*rand.randint(1,100)\n",
    "    return b;\n",
    "\n",
    "ages = ageGenerator(np.ones(1000))\n",
    "\n",
    "fig = plt.figure(figsize = (10,5))\n",
    "plt.hist(ages, bins = 100, range = (0,110))\n",
    "\n",
    "plt.xlabel('Years of age', fontsize = 15)\n",
    "plt.ylabel('Frequency', fontsize = 15)\n",
    "plt.title('Age distribution in a sample of %i people \\n' %(len(ages)), fontsize = 15 ) \n",
    "\n",
    "plt.show()"
   ]
  },
  {
   "cell_type": "code",
   "execution_count": null,
   "metadata": {},
   "outputs": [],
   "source": [
    "#Let's use some data from a particle physics experiment.\n",
    "\n",
    "doublemuons = pd.read_csv('http://opendata.cern.ch/record/545/files/Dimuon_DoubleMu.csv')\n",
    "\n",
    "# Let's make a histogram with respect to the invariant mass, the column M.\n",
    "\n",
    "fig = plt.figure(figsize = (10,5))\n",
    "plt.hist(doublemuons.M, bins = 300, range = (0,150))\n",
    "\n",
    "plt.xlabel('Invariant mass (GeV/$c^2$)', fontsize = 15)\n",
    "plt.ylabel('The event count', fontsize = 15)\n",
    "plt.title('The distribution of the invariant mass of two muons \\n', fontsize = 15 ) \n",
    "\n",
    "plt.show()"
   ]
  },
  {
   "cell_type": "code",
   "execution_count": null,
   "metadata": {},
   "outputs": [],
   "source": [
    "# Let's analyze the area between 80 and 100.\n",
    "\n",
    "peak = doublemuons[(doublemuons.M >= 80) & (doublemuons.M <= 100)]\n",
    "\n",
    "fig = plt.figure(figsize = (10,5))\n",
    "plt.hist(peak.M, bins = 200)\n",
    "\n",
    "plt.xlabel('Invariant mass (GeV/$c^2$)', fontsize = 15)\n",
    "plt.ylabel('The event count', fontsize = 15)\n",
    "plt.title('The distribution of the invariant mass of two muons \\n', fontsize = 15 ) \n",
    "\n",
    "plt.show()"
   ]
  },
  {
   "cell_type": "markdown",
   "metadata": {},
   "source": [
    "On average, fitting nonlinear curves with the data needs a bit more programming. But in the case of distributions Python offers a variety of suitable functions. For example, you can fit a normal distribution to the above figure as follows:"
   ]
  },
  {
   "cell_type": "code",
   "execution_count": null,
   "metadata": {},
   "outputs": [],
   "source": [
    "# Let's defined the limits of the fit:\n",
    "\n",
    "lower_limit = 87\n",
    "upper_limit = 95\n",
    "\n",
    "peak = doublemuons[(doublemuons.M > lower_limit) & (doublemuons.M < upper_limit)]\n",
    "\n",
    "fig = plt.figure(figsize=(15, 10))\n",
    "\n",
    "# Let's define the limits for the data we're going to plot.\n",
    "\n",
    "lower = 80\n",
    "upper = 100\n",
    "\n",
    "area = doublemuons[(doublemuons.M > lower) & (doublemuons.M < upper)]\n",
    "\n",
    "# Since the area of the histogram is set to one for the purposes of the cumulative distribution function,\n",
    "# let's define a coefficient that takes into account the ratio between the analyzed area and the full area when making a fit.\n",
    "\n",
    "coef = len(peak)/len(area)\n",
    "(mu, sigma) = norm.fit(peak.M)\n",
    "\n",
    "# Let's draw a histogram between the limits we set earlier:\n",
    "\n",
    "n, bins, patches = plt.hist(doublemuons.M, 300, density = 1, facecolor = 'green', alpha=0.75, histtype='stepfilled',\n",
    "                            range=(lower,upper))\n",
    "\n",
    "# Now we'll plot the normal distribution with the coeffiecent we defined above.\n",
    "\n",
    "y = coef*norm.pdf( bins, mu, sigma)\n",
    "l = plt.plot(bins, y, 'r--', linewidth=2)\n",
    "\n",
    "plt.xlabel('Mass [GeV/$c^2$]',fontsize=15)\n",
    "plt.ylabel('Probability of an event', fontsize=15)\n",
    "\n",
    "# The title contains the values we calculated from the data.\n",
    "\n",
    "plt.title(r'$\\mathrm{A\\ histogram\\ from\\ the\\ invariant\\ masses\\ normed\\ to\\ one:}\\ \\mu=%.3f,\\ \\sigma=%.3f$'\n",
    "          %(mu,sigma),fontsize=15)\n",
    "\n",
    "# Add a grid\n",
    "\n",
    "plt.grid(True)\n",
    "\n",
    "plt.show()"
   ]
  },
  {
   "cell_type": "markdown",
   "metadata": {},
   "source": [
    "We can also plot a figure from a file that doesn't have numbers. For example, let's use statistics of road accidents in London."
   ]
  },
  {
   "cell_type": "code",
   "execution_count": null,
   "metadata": {},
   "outputs": [],
   "source": [
    "# Around 40,000 road accidents on different vehicles. The same event has the same reference number AREFNO.\n",
    "\n",
    "# Nelisenkymmentätuhatta tapaturmaa erinäisin kulkupelein, samalla tapahtumalla on sama viitenumero AREFNO.\n",
    "\n",
    "traffic = pd.read_table('../exercises/2016-gla-data-extract-vehicle.csv', sep = \",\")\n",
    "injured = pd.read_table('../exercises/2016-gla-data-extract-casualty.csv', sep = \",\")"
   ]
  },
  {
   "cell_type": "code",
   "execution_count": null,
   "metadata": {},
   "outputs": [],
   "source": [
    "traffic.head()"
   ]
  },
  {
   "cell_type": "code",
   "execution_count": null,
   "metadata": {},
   "outputs": [],
   "source": [
    "injured.head()"
   ]
  },
  {
   "cell_type": "code",
   "execution_count": null,
   "metadata": {},
   "outputs": [],
   "source": [
    "# Let's choose the age range:\n",
    "\n",
    "lower_limit = 16\n",
    "upper_limit = 25\n",
    "agerange = traffic.loc[(traffic['Driver Age'] <= upper_limit) & (traffic['Driver Age'] >= lower_limit)]"
   ]
  },
  {
   "cell_type": "code",
   "execution_count": null,
   "metadata": {},
   "outputs": [],
   "source": [
    "# Let's plot the accidents of this age group on different vehicles.\n",
    "\n",
    "fig = plt.figure(figsize = (10,5))\n",
    "plt.hist(agerange['Vehicle Type'], bins = 50)\n",
    "\n",
    "# Define how the labels in the x-axis work, especially their rotation.\n",
    "\n",
    "plt.xticks(rotation = 40, ha = 'right')\n",
    "\n",
    "plt.show()"
   ]
  },
  {
   "cell_type": "markdown",
   "metadata": {},
   "source": [
    "From the figure we can see, unsurprisingly, that most of the road accidents are collisions of cars. However, we can also spot a ridden horse from the list. Let's analyze this further:"
   ]
  },
  {
   "cell_type": "code",
   "execution_count": null,
   "metadata": {},
   "outputs": [],
   "source": [
    "# Isolate the horse collisions from the traffic data.\n",
    "\n",
    "horses = traffic.loc[traffic['Vehicle Type'] == '16 Ridden Horse']\n",
    "horses.head()"
   ]
  },
  {
   "cell_type": "code",
   "execution_count": null,
   "metadata": {},
   "outputs": [],
   "source": [
    "# We observe the same AREFNO, which means that the horses collided with each other. What were the injuries?\n",
    "\n",
    "horseInjuries = injured.loc[injured['AREFNO'] == '0116TW60237']\n",
    "horseInjuries.head()"
   ]
  },
  {
   "cell_type": "markdown",
   "metadata": {},
   "source": [
    "In real data, there are always inaccuracies with respect to the precise measurement and how precisely something can even be measured. These precision values can be obtained using statistical processes or sometimes they are known for each value separately. Let's take a look at an example of this."
   ]
  },
  {
   "cell_type": "code",
   "execution_count": null,
   "metadata": {},
   "outputs": [],
   "source": [
    "def randomizer(a):\n",
    "    b = a.copy()\n",
    "    for i in range(0,len(b)):\n",
    "        b[i] = b[i]*rand.normalvariate(1, 0.1)\n",
    "    return b;\n",
    "\n",
    "# Create data points that vary according to normal distribution.\n",
    "\n",
    "val1 = randomizer(np.linspace(3,5,100))\n",
    "val2 = randomizer(np.linspace(10,20,100))\n",
    "\n",
    "# Give each data point an error that is normally distributed.\n",
    "\n",
    "err1 = (1/5)*randomizer(np.ones(len(val1)))\n",
    "err2 = randomizer(np.ones(len(val2)))\n",
    "\n",
    "fig = plt.figure(figsize=(10,5))\n",
    "plt.scatter(val1, val2, marker ='*', color = 'b', label = 'Measurements')\n",
    "plt.errorbar(val1, val2, xerr = err1, yerr = err2, fmt = 'none')\n",
    "\n",
    "# Let's calculate a linear fit with the sum of least squares.\n",
    "\n",
    "slope, intercept, r_value, p_value, std_err = stats.linregress(val1, val2)\n",
    "plt.plot(val1, intercept + slope*val1, 'r', label='Fit')\n",
    "\n",
    "plt.legend(fontsize = 15)\n",
    "plt.show()\n",
    "\n",
    "# If we want to know the mathematical properties of the linear fit, we could for example write print(slope) etc."
   ]
  },
  {
   "cell_type": "markdown",
   "metadata": {},
   "source": [
    "<a id=\"animations\"></a>\n",
    "### 7. Animations"
   ]
  },
  {
   "cell_type": "markdown",
   "metadata": {},
   "source": [
    "Python has multiple ways of making animations. However, we don't recommend using the plotly-library with Notebooks, since it is so slow. The following example shows clearly why more data gives better results."
   ]
  },
  {
   "cell_type": "code",
   "execution_count": null,
   "metadata": {},
   "outputs": [],
   "source": [
    "# Import the data we want to use\n",
    "data = pd.read_csv('http://opendata.cern.ch/record/545/files/Dimuon_DoubleMu.csv')\n",
    "\n",
    "# Save the invariant mass into a variable\n",
    "iMass = data.M"
   ]
  },
  {
   "cell_type": "code",
   "execution_count": null,
   "metadata": {},
   "outputs": [],
   "source": [
    "# Define a function that produces our figure. \n",
    "# Num says how many steps we have taken and the function draws a new histogram for each step.\n",
    "\n",
    "def updt_hist(num, iMass):\n",
    "    plt.cla()\n",
    "    axes = plt.gca()\n",
    "    axes.set_ylim(0,12000)\n",
    "    axes.set_xlim(0,200)\n",
    "    plt.hist(iMass[:num*480], bins = 120)"
   ]
  },
  {
   "cell_type": "markdown",
   "metadata": {},
   "source": [
    "Note that cells that contain animations are _**slow**_. The more images, the slower it is to make them. This can take several minutes."
   ]
  },
  {
   "cell_type": "code",
   "execution_count": null,
   "metadata": {},
   "outputs": [],
   "source": [
    "# Import a library that produces animations.\n",
    "import matplotlib.animation"
   ]
  },
  {
   "cell_type": "code",
   "execution_count": null,
   "metadata": {},
   "outputs": [],
   "source": [
    "%%capture\n",
    "\n",
    "# The purpose of the %%capture -magic function is to prevent this cell from displaying a finished image, \n",
    "# so that there won't be empty images or other unnecessary things. It makes our life easier.\n",
    "\n",
    "fig = plt.figure()\n",
    "\n",
    "# fargs says which variables a function takes as input and the empty part tells to the prorgram that it must use two variables.\n",
    "# The other variable is the current frame.\n",
    "\n",
    "anim = matplotlib.animation.FuncAnimation(fig, updt_hist, frames = 200, fargs=(iMass, ) )\n",
    "\n",
    "# anim.to_jshtml() changes the animation to (javascript)html so that Notebook can show it.\n",
    "\n",
    "from IPython.display import HTML\n",
    "HTML(anim.to_jshtml())"
   ]
  },
  {
   "cell_type": "code",
   "execution_count": null,
   "metadata": {},
   "outputs": [],
   "source": [
    "# Tämän ajamalla animaatio saadaan sitten näkyväksi, kun se on ohjelman muistissa.\n",
    "# Running this cell the animation can be shown, when it is in the memory of the program.\n",
    "\n",
    "HTML(anim.to_jshtml())"
   ]
  },
  {
   "cell_type": "markdown",
   "metadata": {},
   "source": [
    "<a id=\"maps\"></a>\n",
    "### 8. Maps and heat maps"
   ]
  },
  {
   "cell_type": "markdown",
   "metadata": {},
   "source": [
    "Let's now take a look at interactive maps that utilize data! Making them is easier than you would think. In the following example we use data that contains latitudes and longitudes."
   ]
  },
  {
   "cell_type": "code",
   "execution_count": null,
   "metadata": {},
   "outputs": [],
   "source": [
    "# We can find different maps from the folium-library.\n",
    "\n",
    "import folium\n",
    "\n",
    "# Tiheyttä värein edustava heatmap-systeemi on myös näppärä, joten otetaan se käyttöön.\n",
    "# Let's import the HeatMap-system. It is represents density as colours, which is useful for our purposes.\n",
    "\n",
    "from folium.plugins import HeatMap"
   ]
  },
  {
   "cell_type": "code",
   "execution_count": null,
   "metadata": {},
   "outputs": [],
   "source": [
    "# This dataset contains information about earthquakes all around the world that happened in the last month. \n",
    "# It is updated continually.\n",
    "\n",
    "quakeData = pd.read_csv('https://earthquake.usgs.gov/earthquakes/feed/v1.0/summary/all_month.csv')\n",
    "quakeData.head()"
   ]
  },
  {
   "cell_type": "code",
   "execution_count": null,
   "metadata": {},
   "outputs": [],
   "source": [
    "# Since our data is in DataFrame-form, we change it first into lists that HeatMap understands.\n",
    "\n",
    "dat = [0]*len(quakeData)\n",
    "\n",
    "# The list contains values (tuples), that contain latitude, longitude and the strength of the earthquake.\n",
    "# Magnitude isn't strictly necessary for our purposes, but it can become useful for example if we want to study \n",
    "# only the instances that cross a certain threshold.\n",
    "\n",
    "for i in range(0, len(quakeData)):\n",
    "    dat[i] = [quakeData['latitude'][i], quakeData['longitude'][i], quakeData['mag'][i]]"
   ]
  },
  {
   "cell_type": "code",
   "execution_count": null,
   "metadata": {},
   "outputs": [],
   "source": [
    "# In case that there are also rows whose magnitude is unknown (indicated as NaN),\n",
    "# let's remove them so that our list doesn't start behaving awkwardly.\n",
    "\n",
    "dat = [x for x in dat if ~np.isnan(x[2])]"
   ]
  },
  {
   "cell_type": "code",
   "execution_count": null,
   "metadata": {},
   "outputs": [],
   "source": [
    "# Different types of maps: https://deparkes.co.uk/2016/06/10/folium-map-tiles/\n",
    "# 'world_copy_jump = True' enables rolling the map to the side so that the earthquakes are still shown.\n",
    "# If you only want one map projection, please add the argument 'no_wrap = True' to the list of arguments.\n",
    "# The argument control_scale adds a scale to the map.\n",
    "\n",
    "m = folium.Map([15., -75.], tiles='openstreetmap', zoom_start=3, world_copy_jump = True, control_scale = True)\n",
    "\n",
    "HeatMap(dat, radius = 15).add_to(m)\n",
    "\n",
    "m"
   ]
  },
  {
   "cell_type": "markdown",
   "metadata": {},
   "source": [
    "<a id=\"problems\"></a>\n",
    "### 9. Common problems"
   ]
  },
  {
   "cell_type": "markdown",
   "metadata": {},
   "source": [
    "Here is a list of some common problems:\n",
    "\n",
    "* [A cell got stuck and it won't draw my figure or run my code.](#stuck)\n",
    "* [An error message says 'name is not defined' or 'name does not exist'.](#notedfined)\n",
    "* [I'm trying to save something in a variable but print(name) outputs None.](#printnone)\n",
    "* [I can't load my data into a variable.](#load)\n",
    "* [Why does my dataset have 'NaN'-values?](#nan)\n",
    "* [I combined pieces of data into a variable, but I can't use it.](#pieces)\n",
    "* [Why doesn't my code work although I know it's written correctly?](#correct)\n",
    "* [The dates in the data mess up the program. How do I fix this?](#dates)\n",
    "* [I copied the data into a new variable. After I have processed it, I see that the values of the original variable have changed.](#variables)\n",
    "  \n",
    "Solu jäi jumiin eikä piirrä kuvaajaani tai aja koodiani?  \n",
    "Virheilmoitus herjaa 'nimi is not defined' tai 'nimi does not exist'?  \n",
    "Yritän tallentaa muuttujaan asioita, mutta print(nimi) kertookin None?  \n",
    "Datani ei suostu lataamaan?  \n",
    "Lataamassani datassa on jotain omituisia 'NaN'-arvoja?  \n",
    "Yhdistin palasia datasta, mutta nyt en enää pysty tekemään asioita uudella muuttujallani?  \n",
    "Koodini ei toimi, vaikka se on ihan varmasti oikein kirjoitettu?  \n",
    "Datan päivämäärät sekoittavat toiminnan, miten korjaan?  \n",
    "Kopioin datan uuteen muuttujaan, jonka käsittelyn jälkeen huomaan alkuperäisen muuttujan arvojen vaihtuneen?  \n"
   ]
  },
  {
   "cell_type": "markdown",
   "metadata": {},
   "source": [
    "<a id=\"stuck\"></a>\n",
    "#### A cell got stuck and it won't draw my figure or run my code."
   ]
  },
  {
   "cell_type": "markdown",
   "metadata": {},
   "source": [
    "If it takes more time than it should to run a cell, and the code isn't doing anything computing-intensive, then it is possible that there is an infinite loop in the code. Stop the execution of the kernel and make sure your code doesn't have infinite loops. If you don't find the problem, make the syntax simpler so that you can be sure that the code is logical.\n",
    "\n",
    "A common problem is that a syntax error drives the machine to do something wrong. An example: you're making a histogram of a column of a big data set but you forget to add the name of the column into your code. Now the machine tries to execute your command and gets confused about a table that contains the whole data. Stop the kernel and change the names of the variables."
   ]
  },
  {
   "cell_type": "markdown",
   "metadata": {},
   "source": [
    "<a id=\"notdefined\"></a>\n",
    "#### An error message says 'name is not defined' or 'name does not exist'."
   ]
  },
  {
   "cell_type": "markdown",
   "metadata": {},
   "source": [
    "The variable you're alluding to doesn't exist. Are you sure you have run the cell where the variable is defined in this session? Also, remember that the size of the letters matters."
   ]
  },
  {
   "cell_type": "markdown",
   "metadata": {},
   "source": [
    "<a id=\"printnone\"></a>\n",
    "#### I'm trying to save something in a variable but print(name) outputs None."
   ]
  },
  {
   "cell_type": "markdown",
   "metadata": {},
   "source": [
    "You probably haven't saved the value properly into the variable. Remember to save all the operations you have made into a variable, e.g.\n",
    "\n",
    "```python\n",
    "variable = ... imported data\n",
    "variable = variable*2\n",
    "```\n",
    "and not\n",
    "```python\n",
    "variable = ... imported data\n",
    "variable*2\n",
    "```\n",
    "\n",
    "If print(variable) returns None, the variable is empty. Make sure that the operation you want to do is possible and doesn't fall apart because of e.g. invalid inputs for an inner function."
   ]
  },
  {
   "cell_type": "markdown",
   "metadata": {},
   "source": [
    "<a id=\"load\"></a>\n",
    "#### I can't load my data into a variable."
   ]
  },
  {
   "cell_type": "markdown",
   "metadata": {},
   "source": [
    "Ordinary csv-files and similar files can be viewed with text editors. There you can see which character separates the values, which row the relevant data starts from, and is does the file contain the data you need.\n",
    "\n",
    "Separator characters, headers, and others can be defined as parameters of the read-function, e.g.\n",
    "\n",
    "```python\n",
    "pd.read_csv('link to a file', sep = ';')\n",
    "```\n",
    "reads a csv-file whose values are separated by a semicolon. More about this in the section 3.\n",
    "\n",
    "**pd.read_table()** can help to clarify the data if you don't want to open a text editor.\n",
    "\n",
    "Sometimes there are incompabilities with the codes that guide the character encoding. This is when the parameter **encoding** can be of help. More information about them can be found [here](https://docs.python.org/3/library/codecs.html#standard-encodings). If the default option doesn't work, try some variant of ISO; it should work in most cases."
   ]
  },
  {
   "cell_type": "markdown",
   "metadata": {},
   "source": [
    "<a id=\"nan\"></a>\n",
    "#### Why does my dataset have 'NaN'-values?"
   ]
  },
  {
   "cell_type": "markdown",
   "metadata": {},
   "source": [
    "NaN, 'Not a Number', says that there is no value in this part of the data set. Either the value is weird (such as the square root of a negative number), or it just doesn't exist.\n",
    "\n",
    "Many functions doen't care about NaN-values or you can add a parameter that lets the function to ignore them. This helps especially when you have big datasets, since the program won't stall when it has to compute something incalculable."
   ]
  },
  {
   "cell_type": "markdown",
   "metadata": {},
   "source": [
    "<a id=\"pieces\"></a>\n",
    "####  I combined pieces of data into a variable, but I can't use it."
   ]
  },
  {
   "cell_type": "markdown",
   "metadata": {},
   "source": [
    "Did you combine different types of variables? The computer handles integers, floating point numbers, strings, and other value types differently. Sometimes a series of numbers is written as a string into a dataset, which causes all kind of trouble. Python has different commands for checking the type of a variable, such as isstring.\n",
    "\n",
    "Did you combine the pieces correctly? If you wanted columns next to each other, make sure you didn't combine them into a single long column. Analyzing the data with e.g. commands **len(name)** and **name.head()** is often useful in these situations."
   ]
  },
  {
   "cell_type": "markdown",
   "metadata": {},
   "source": [
    "<a id=\"correct\"></a>\n",
    "#### Why doesn't my code work although I know it's written correctly?"
   ]
  },
  {
   "cell_type": "markdown",
   "metadata": {},
   "source": [
    "Go over your code and check that there isn't a dot in a wrong place or a wrong size letter somewhere.\n",
    "\n",
    "If you're sure the code is supposed to work but it doesn't, the problem may be caused by old values in the kernel's memory. Try clicking on 'Restart & Clear Output' from the Kernel-menu, possibly even couple times."
   ]
  },
  {
   "cell_type": "markdown",
   "metadata": {},
   "source": [
    "<a id=\"dates\"></a>\n",
    "####  The dates in the data mess up the program. How do I fix this?"
   ]
  },
  {
   "cell_type": "markdown",
   "metadata": {},
   "source": [
    "Dates can be expressed in many forms in the data. If the default settings don't work, you can find different parameters that affect the interpretation of dates in the [documentation](https://pandas.pydata.org/pandas-docs/stable/generated/pandas.read_csv.html) of **pd.read_csv()**. For example. **dayfirst** or **date_parser** may solve the problem. Python has also the [**time**](https://docs.python.org/3/library/time.html)-library that can be of help."
   ]
  },
  {
   "cell_type": "markdown",
   "metadata": {},
   "source": [
    "<a id=\"values\"></a>\n",
    "#### I copied the data into a new variable. After I have processed it, I see that the values of the original variable have changed."
   ]
  },
  {
   "cell_type": "markdown",
   "metadata": {},
   "source": [
    "Python operates by pointers. This means that a variable contains a pointer to a memory slot where the information is located, rather than containing the information itself. When copying a full data variable to a new variable rather than single rows or columns, it may happen that the new variable just points to the old information. If the content of the new variable is changed, the changes are made to the old variable as well. Because of this, it is useful to copy the original variable as follows:\n",
    "```python\n",
    "newName = oldName.copy()\n",
    "```\n",
    "Now the program uses a new memory slot so that the new variable doesn't point to the old one. The problem seems to happen only when saving the whole data into a new variable, which means that isolating single rows or columns into variables happens without referencing the original data."
   ]
  }
 ],
 "metadata": {
  "kernelspec": {
   "display_name": "Python 3 (ipykernel)",
   "language": "python",
   "name": "python3"
  },
  "language_info": {
   "codemirror_mode": {
    "name": "ipython",
    "version": 3
   },
   "file_extension": ".py",
   "mimetype": "text/x-python",
   "name": "python",
   "nbconvert_exporter": "python",
   "pygments_lexer": "ipython3",
   "version": "3.9.12"
  }
 },
 "nbformat": 4,
 "nbformat_minor": 2
}
