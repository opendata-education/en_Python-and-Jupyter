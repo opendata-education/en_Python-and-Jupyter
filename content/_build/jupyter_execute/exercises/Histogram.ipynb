{
 "cells": [
  {
   "cell_type": "markdown",
   "id": "96195b5a",
   "metadata": {},
   "source": [
    "# Histogram\n",
    "\n",
    "**The histogram** is an extremely important tool for data-analysis. Histogram is a diagram where different values of a variable are arranged in columns, resulting in a graphical representation of the data distribution. The range of values in each column, called \"bin\", is determined before constructing the histogram. In histogram, bins are on the x-axis and the corresponding frequencies are on the y-axis."
   ]
  },
  {
   "cell_type": "markdown",
   "id": "182e103f",
   "metadata": {},
   "source": [
    "Let's use data from the NHL player statistics. The data is from [QuantHockey website](https://www.quanthockey.com/nhl/players/a.php) and it includes information about over 8000 players."
   ]
  },
  {
   "cell_type": "code",
   "execution_count": 1,
   "id": "8efc0df2",
   "metadata": {},
   "outputs": [],
   "source": [
    "# Import the needed modules. Pandas is for the data-analysis, numpy for scientific calculation,\n",
    "# and matplotlib.pyplot for making plots. Modules are named as pd, np, and plt, respectively.\n",
    "import pandas as pd\n",
    "import numpy as np\n",
    "import matplotlib.pyplot as plt"
   ]
  },
  {
   "cell_type": "code",
   "execution_count": 2,
   "id": "dfa8f1cb",
   "metadata": {},
   "outputs": [
    {
     "data": {
      "text/html": [
       "<div>\n",
       "<style scoped>\n",
       "    .dataframe tbody tr th:only-of-type {\n",
       "        vertical-align: middle;\n",
       "    }\n",
       "\n",
       "    .dataframe tbody tr th {\n",
       "        vertical-align: top;\n",
       "    }\n",
       "\n",
       "    .dataframe thead th {\n",
       "        text-align: right;\n",
       "    }\n",
       "</style>\n",
       "<table border=\"1\" class=\"dataframe\">\n",
       "  <thead>\n",
       "    <tr style=\"text-align: right;\">\n",
       "      <th></th>\n",
       "      <th>Name</th>\n",
       "      <th>Pos</th>\n",
       "      <th>Birthdate</th>\n",
       "      <th>Birth City</th>\n",
       "      <th>Country</th>\n",
       "      <th>GP</th>\n",
       "      <th>G</th>\n",
       "      <th>A</th>\n",
       "      <th>P</th>\n",
       "      <th>PIM</th>\n",
       "    </tr>\n",
       "  </thead>\n",
       "  <tbody>\n",
       "    <tr>\n",
       "      <th>0</th>\n",
       "      <td>Aalto, Antti</td>\n",
       "      <td>F</td>\n",
       "      <td>03/04/1975</td>\n",
       "      <td>Lappeenranta</td>\n",
       "      <td>Finland</td>\n",
       "      <td>151</td>\n",
       "      <td>11</td>\n",
       "      <td>17</td>\n",
       "      <td>28</td>\n",
       "      <td>52</td>\n",
       "    </tr>\n",
       "    <tr>\n",
       "      <th>1</th>\n",
       "      <td>Abbott, George</td>\n",
       "      <td>G</td>\n",
       "      <td>08/03/1911</td>\n",
       "      <td>Sydenham, Ontario</td>\n",
       "      <td>Canada</td>\n",
       "      <td>1</td>\n",
       "      <td>0</td>\n",
       "      <td>0</td>\n",
       "      <td>0</td>\n",
       "      <td>0</td>\n",
       "    </tr>\n",
       "    <tr>\n",
       "      <th>2</th>\n",
       "      <td>Abbott, Reg</td>\n",
       "      <td>F</td>\n",
       "      <td>02/04/1930</td>\n",
       "      <td>Winnipeg, Manitoba</td>\n",
       "      <td>Canada</td>\n",
       "      <td>3</td>\n",
       "      <td>0</td>\n",
       "      <td>0</td>\n",
       "      <td>0</td>\n",
       "      <td>0</td>\n",
       "    </tr>\n",
       "    <tr>\n",
       "      <th>3</th>\n",
       "      <td>Abbott, Spencer</td>\n",
       "      <td>F</td>\n",
       "      <td>04/30/1988</td>\n",
       "      <td>Hamilton, Ontario</td>\n",
       "      <td>Canada</td>\n",
       "      <td>2</td>\n",
       "      <td>0</td>\n",
       "      <td>0</td>\n",
       "      <td>0</td>\n",
       "      <td>0</td>\n",
       "    </tr>\n",
       "    <tr>\n",
       "      <th>4</th>\n",
       "      <td>Abdelkader, Justin</td>\n",
       "      <td>F</td>\n",
       "      <td>02/25/1987</td>\n",
       "      <td>Muskegon, Michigan</td>\n",
       "      <td>United States</td>\n",
       "      <td>739</td>\n",
       "      <td>106</td>\n",
       "      <td>146</td>\n",
       "      <td>252</td>\n",
       "      <td>608</td>\n",
       "    </tr>\n",
       "  </tbody>\n",
       "</table>\n",
       "</div>"
      ],
      "text/plain": [
       "                 Name Pos   Birthdate          Birth City        Country   GP  \\\n",
       "0        Aalto, Antti   F  03/04/1975        Lappeenranta        Finland  151   \n",
       "1      Abbott, George   G  08/03/1911   Sydenham, Ontario         Canada    1   \n",
       "2         Abbott, Reg   F  02/04/1930  Winnipeg, Manitoba         Canada    3   \n",
       "3     Abbott, Spencer   F  04/30/1988   Hamilton, Ontario         Canada    2   \n",
       "4  Abdelkader, Justin   F  02/25/1987  Muskegon, Michigan  United States  739   \n",
       "\n",
       "     G    A    P  PIM  \n",
       "0   11   17   28   52  \n",
       "1    0    0    0    0  \n",
       "2    0    0    0    0  \n",
       "3    0    0    0    0  \n",
       "4  106  146  252  608  "
      ]
     },
     "execution_count": 2,
     "metadata": {},
     "output_type": "execute_result"
    }
   ],
   "source": [
    "#Store the dataset in a variable.\n",
    "%matplotlib inline\n",
    "nhl_data = pd.read_csv(\"https://raw.githubusercontent.com/opendata-education/Python-ja-Jupyter/main/materiaali/harjoitukset/NHL-players.csv\")\n",
    "nhl_data.head()"
   ]
  },
  {
   "cell_type": "markdown",
   "id": "95e94e62",
   "metadata": {},
   "source": [
    "We want to inspect the distribution of the players' birth months. Would it be possible that there are much more players born in some months as opposed to others?"
   ]
  },
  {
   "cell_type": "code",
   "execution_count": 3,
   "id": "37841148",
   "metadata": {},
   "outputs": [],
   "source": [
    "#Take the birhtdays from the data and modify it so that we only consider months.\n",
    "#Understanding the code here isn't important for understanding the rest of the exercise.\n",
    "birthdays = pd.to_datetime(nhl_data['Birthdate'],format='%m/%d/%Y')\n",
    "months = birthdays.dt.month"
   ]
  },
  {
   "cell_type": "code",
   "execution_count": 4,
   "id": "cfdb0499",
   "metadata": {},
   "outputs": [
    {
     "data": {
      "image/png": "[encoded data removed]",
      "text/plain": [
       "<Figure size 432x288 with 1 Axes>"
      ]
     },
     "metadata": {
      "filenames": {
       "image/png": "/home/santerikoivula/en_Python-and-Jupyter/content/_build/jupyter_execute/exercises/Histogram_6_0.png"
      },
      "needs_background": "light"
     },
     "output_type": "display_data"
    }
   ],
   "source": [
    "#Draw a histogram of the players' birth months\n",
    "plt.hist(months, bins=12)\n",
    "plt.show()"
   ]
  },
  {
   "cell_type": "markdown",
   "id": "a86722e8",
   "metadata": {},
   "source": [
    "Great, we created our first histogram! We can make it more beautiful by naming the axes and adding other features."
   ]
  },
  {
   "cell_type": "code",
   "execution_count": 5,
   "id": "f6f3a747",
   "metadata": {},
   "outputs": [
    {
     "data": {
      "image/png": "[encoded data removed]",
      "text/plain": [
       "<Figure size 720x432 with 1 Axes>"
      ]
     },
     "metadata": {
      "filenames": {
       "image/png": "/home/santerikoivula/en_Python-and-Jupyter/content/_build/jupyter_execute/exercises/Histogram_8_0.png"
      },
      "needs_background": "light"
     },
     "output_type": "display_data"
    }
   ],
   "source": [
    "fig, ax = plt.subplots()  #Save the figure and its axes in variables\n",
    "fig.set_figheight(6)   \n",
    "fig.set_figwidth(10)      #Adjust the size of the figure\n",
    "bins = np.arange(1,14)    #We'll use the 'arange'-method from the NumPy library in order to get the bins to the right place in the graph.\n",
    "plt.hist(months, bins=bins,edgecolor='k', align='left')  #The variable 'edgecolor' helps us to differentiate between bins. The 'align' variable aligns the bins correctly.  \n",
    "plt.title('The birth months of NHL players')  #Name the figure\n",
    "plt.xlabel('birth month')   #Name the x-axis\n",
    "plt.ylabel('frequency')     #Name the y-axis\n",
    "plt.show()"
   ]
  },
  {
   "cell_type": "markdown",
   "id": "42352686",
   "metadata": {},
   "source": [
    "Now it looks better! Changing the amount of bins we can make new observations. For example, it may be useful to see how many players are born in the first half of the year, and how many in the second half. This can be achieved by changing the amount of bins to two."
   ]
  },
  {
   "cell_type": "code",
   "execution_count": 6,
   "id": "b5a25dae",
   "metadata": {},
   "outputs": [
    {
     "data": {
      "image/png": "[encoded data removed]",
      "text/plain": [
       "<Figure size 720x432 with 1 Axes>"
      ]
     },
     "metadata": {
      "filenames": {
       "image/png": "/home/santerikoivula/en_Python-and-Jupyter/content/_build/jupyter_execute/exercises/Histogram_10_0.png"
      },
      "needs_background": "light"
     },
     "output_type": "display_data"
    }
   ],
   "source": [
    "fig = plt.figure(figsize=(10,6))\n",
    "plt.hist(months, bins=2,edgecolor='k')\n",
    "plt.title('The birth months of NHL players')  #Name the figure\n",
    "plt.xlabel('birth month')   #Name the x-axis\n",
    "plt.ylabel('frequency')     #Name the y-axis\n",
    "plt.show()"
   ]
  },
  {
   "cell_type": "markdown",
   "id": "40055454",
   "metadata": {},
   "source": [
    "We can see that there are significantly more players born in the first half of the year. Can you figure out why this is the case?"
   ]
  },
  {
   "cell_type": "markdown",
   "id": "d403d86c",
   "metadata": {},
   "source": [
    "If your goal was to learn the very basics of histograms, reading the above is enough. Please continue reading if you want to get deeper into histograms and their properties."
   ]
  },
  {
   "cell_type": "markdown",
   "id": "cc477ec2",
   "metadata": {},
   "source": [
    "## The difference to bar charts"
   ]
  },
  {
   "cell_type": "markdown",
   "id": "bc33faeb",
   "metadata": {},
   "source": [
    "Another important tool for data-analysis is the bar chart. It is important to know the difference between the histogram and the bar chart. In a bar chart the data is separated into different categories that have no specific order between each other. The categories are represented as bars which show the frequencies. In a bar chart the bars don't touch each other, as opposed to a histogram. The order of the bars can also be changed, since they have no specific order."
   ]
  },
  {
   "cell_type": "markdown",
   "id": "bc4e314a",
   "metadata": {},
   "source": [
    "Let us next build a bar chart of the home countries of the players."
   ]
  },
  {
   "cell_type": "code",
   "execution_count": 7,
   "id": "a8965edd",
   "metadata": {},
   "outputs": [
    {
     "data": {
      "image/png": "[encoded data removed]",
      "text/plain": [
       "<Figure size 1008x576 with 1 Axes>"
      ]
     },
     "metadata": {
      "filenames": {
       "image/png": "/home/santerikoivula/en_Python-and-Jupyter/content/_build/jupyter_execute/exercises/Histogram_16_0.png"
      },
      "needs_background": "light"
     },
     "output_type": "display_data"
    }
   ],
   "source": [
    "countries = nhl_data['Country'].astype(str)    #Save the home countries of the players to a variable.\n",
    "ax = countries.value_counts().plot(kind='bar', figsize=(14,8), title=\"Players by country\")  #Draw the figure\n",
    "ax.set_xlabel(\"Countries\")    #Name the axes\n",
    "ax.set_ylabel(\"Frequency\")\n",
    "plt.show()"
   ]
  },
  {
   "cell_type": "markdown",
   "id": "ee135950",
   "metadata": {},
   "source": [
    "In the figure above the countries are arranged by how many NHL-players are from them. However, this isn't necessary. We could just as well put the countries in e.g. alphabetical order."
   ]
  },
  {
   "cell_type": "markdown",
   "id": "61b1ee13",
   "metadata": {},
   "source": [
    "## Distributions"
   ]
  },
  {
   "cell_type": "markdown",
   "id": "2023bd7c",
   "metadata": {},
   "source": [
    "With histograms, we can often approximate a distribution that shows the probability of different values of a variable. The more we have the data, the better we can approximate the distribution. Let us use the weights of the NHL-players as an example. Let's make an animation that shows how the distribution appears when we add the amount of data points. The data has been gathered from Jatkoaika.com on the 22th of June in 2022."
   ]
  },
  {
   "cell_type": "code",
   "execution_count": 8,
   "id": "96777d6a",
   "metadata": {},
   "outputs": [
    {
     "data": {
      "text/html": [
       "<div>\n",
       "<style scoped>\n",
       "    .dataframe tbody tr th:only-of-type {\n",
       "        vertical-align: middle;\n",
       "    }\n",
       "\n",
       "    .dataframe tbody tr th {\n",
       "        vertical-align: top;\n",
       "    }\n",
       "\n",
       "    .dataframe thead th {\n",
       "        text-align: right;\n",
       "    }\n",
       "</style>\n",
       "<table border=\"1\" class=\"dataframe\">\n",
       "  <thead>\n",
       "    <tr style=\"text-align: right;\">\n",
       "      <th></th>\n",
       "      <th>Player</th>\n",
       "      <th>Team</th>\n",
       "      <th>Age</th>\n",
       "      <th>Height (cm)</th>\n",
       "      <th>Weight (kg)</th>\n",
       "      <th>Stick</th>\n",
       "    </tr>\n",
       "  </thead>\n",
       "  <tbody>\n",
       "    <tr>\n",
       "      <th>0</th>\n",
       "      <td>Nick Abruzzese</td>\n",
       "      <td>Toronto</td>\n",
       "      <td>22</td>\n",
       "      <td>178</td>\n",
       "      <td>79</td>\n",
       "      <td>left</td>\n",
       "    </tr>\n",
       "    <tr>\n",
       "      <th>1</th>\n",
       "      <td>Noel Acciari</td>\n",
       "      <td>Florida</td>\n",
       "      <td>30</td>\n",
       "      <td>178</td>\n",
       "      <td>95</td>\n",
       "      <td>right</td>\n",
       "    </tr>\n",
       "    <tr>\n",
       "      <th>2</th>\n",
       "      <td>Sebastian Aho</td>\n",
       "      <td>NY Islanders</td>\n",
       "      <td>26</td>\n",
       "      <td>177</td>\n",
       "      <td>83</td>\n",
       "      <td>left</td>\n",
       "    </tr>\n",
       "    <tr>\n",
       "      <th>3</th>\n",
       "      <td>Sebastian Aho</td>\n",
       "      <td>Carolina</td>\n",
       "      <td>24</td>\n",
       "      <td>183</td>\n",
       "      <td>80</td>\n",
       "      <td>left</td>\n",
       "    </tr>\n",
       "    <tr>\n",
       "      <th>4</th>\n",
       "      <td>Jake Allen</td>\n",
       "      <td>Montreal</td>\n",
       "      <td>31</td>\n",
       "      <td>188</td>\n",
       "      <td>86</td>\n",
       "      <td>left</td>\n",
       "    </tr>\n",
       "  </tbody>\n",
       "</table>\n",
       "</div>"
      ],
      "text/plain": [
       "           Player          Team  Age  Height (cm)  Weight (kg)  Stick\n",
       "0  Nick Abruzzese       Toronto   22          178           79   left\n",
       "1    Noel Acciari       Florida   30          178           95  right\n",
       "2   Sebastian Aho  NY Islanders   26          177           83   left\n",
       "3   Sebastian Aho      Carolina   24          183           80   left\n",
       "4      Jake Allen      Montreal   31          188           86   left"
      ]
     },
     "execution_count": 8,
     "metadata": {},
     "output_type": "execute_result"
    }
   ],
   "source": [
    "#Save the biometric data of the players to a variable\n",
    "nhl_biometrics = pd.read_csv(\"https://raw.githubusercontent.com/opendata-education/Python-ja-Jupyter/main/materiaali/harjoitukset/NHL_biometrics.csv\")\n",
    "nhl_biometrics.head()"
   ]
  },
  {
   "cell_type": "code",
   "execution_count": 9,
   "id": "31544b0c",
   "metadata": {},
   "outputs": [],
   "source": [
    "#Save the weights of the players to a variable\n",
    "weights = nhl_biometrics['Weight (kg)']"
   ]
  },
  {
   "cell_type": "code",
   "execution_count": 10,
   "id": "5e40e2e5",
   "metadata": {},
   "outputs": [
    {
     "ename": "ModuleNotFoundError",
     "evalue": "No module named 'scipy'",
     "output_type": "error",
     "traceback": [
      "\u001b[0;31m---------------------------------------------------------------------------\u001b[0m",
      "\u001b[0;31mModuleNotFoundError\u001b[0m                       Traceback (most recent call last)",
      "Input \u001b[0;32mIn [10]\u001b[0m, in \u001b[0;36m<cell line: 3>\u001b[0;34m()\u001b[0m\n\u001b[1;32m      1\u001b[0m \u001b[38;5;66;03m#Import the needed libraries\u001b[39;00m\n\u001b[1;32m      2\u001b[0m \u001b[38;5;28;01mimport\u001b[39;00m \u001b[38;5;21;01mmatplotlib\u001b[39;00m\u001b[38;5;21;01m.\u001b[39;00m\u001b[38;5;21;01manimation\u001b[39;00m \u001b[38;5;28;01mas\u001b[39;00m \u001b[38;5;21;01manimation\u001b[39;00m\n\u001b[0;32m----> 3\u001b[0m \u001b[38;5;28;01mfrom\u001b[39;00m \u001b[38;5;21;01mscipy\u001b[39;00m\u001b[38;5;21;01m.\u001b[39;00m\u001b[38;5;21;01mstats\u001b[39;00m \u001b[38;5;28;01mimport\u001b[39;00m norm\n\u001b[1;32m      5\u001b[0m \u001b[38;5;28;01mdef\u001b[39;00m \u001b[38;5;21mupdt_hist\u001b[39m(num, weights):\n\u001b[1;32m      6\u001b[0m     plt\u001b[38;5;241m.\u001b[39mcla()\n",
      "\u001b[0;31mModuleNotFoundError\u001b[0m: No module named 'scipy'"
     ]
    }
   ],
   "source": [
    "#Import the needed libraries\n",
    "import matplotlib.animation as animation\n",
    "from scipy.stats import norm\n",
    "\n",
    "def updt_hist(num, weights):\n",
    "    plt.cla()\n",
    "    plt.xlim((70,120))\n",
    "    plt.hist(weights[:num*10], bins = 50)\n",
    "    plt.gca().set_title('Normal distribution from the weights of the players')\n",
    "    plt.gca().set_ylabel('frequency')\n",
    "    plt.gca().set_xlabel('weight (kg)')"
   ]
  },
  {
   "cell_type": "code",
   "execution_count": 11,
   "id": "a53fc987",
   "metadata": {},
   "outputs": [
    {
     "ename": "NameError",
     "evalue": "name 'updt_hist' is not defined",
     "output_type": "error",
     "traceback": [
      "\u001b[0;31m---------------------------------------------------------------------------\u001b[0m",
      "\u001b[0;31mNameError\u001b[0m                                 Traceback (most recent call last)",
      "Input \u001b[0;32mIn [11]\u001b[0m, in \u001b[0;36m<cell line: 7>\u001b[0;34m()\u001b[0m\n\u001b[1;32m      4\u001b[0m fig \u001b[38;5;241m=\u001b[39m plt\u001b[38;5;241m.\u001b[39mfigure(figsize\u001b[38;5;241m=\u001b[39m(\u001b[38;5;241m15\u001b[39m,\u001b[38;5;241m10\u001b[39m))\n\u001b[1;32m      6\u001b[0m \u001b[38;5;66;03m#Make the animation\u001b[39;00m\n\u001b[0;32m----> 7\u001b[0m anim \u001b[38;5;241m=\u001b[39m animation\u001b[38;5;241m.\u001b[39mFuncAnimation(fig, \u001b[43mupdt_hist\u001b[49m, frames \u001b[38;5;241m=\u001b[39m \u001b[38;5;241m100\u001b[39m, fargs \u001b[38;5;241m=\u001b[39m (weights,))\n\u001b[1;32m      9\u001b[0m \u001b[38;5;66;03m#Make an HTML representation of the animation\u001b[39;00m\n\u001b[1;32m     10\u001b[0m \u001b[38;5;28;01mfrom\u001b[39;00m \u001b[38;5;21;01mIPython\u001b[39;00m\u001b[38;5;21;01m.\u001b[39;00m\u001b[38;5;21;01mdisplay\u001b[39;00m \u001b[38;5;28;01mimport\u001b[39;00m HTML\n",
      "\u001b[0;31mNameError\u001b[0m: name 'updt_hist' is not defined"
     ]
    }
   ],
   "source": [
    "%%capture\n",
    "#This so-called magic-function stops extra frames from appearing on the screen during the animation.\n",
    "\n",
    "#Initialize the figure\n",
    "fig = plt.figure(figsize=(15,10))\n",
    "\n",
    "#Make the animation\n",
    "anim = animation.FuncAnimation(fig, updt_hist, frames = 100, fargs = (weights,))\n",
    "\n",
    "#Make an HTML representation of the animation\n",
    "from IPython.display import HTML\n",
    "HTML(anim.to_jshtml())"
   ]
  },
  {
   "cell_type": "code",
   "execution_count": 12,
   "id": "0378227e",
   "metadata": {},
   "outputs": [
    {
     "ename": "NameError",
     "evalue": "name 'HTML' is not defined",
     "output_type": "error",
     "traceback": [
      "\u001b[0;31m---------------------------------------------------------------------------\u001b[0m",
      "\u001b[0;31mNameError\u001b[0m                                 Traceback (most recent call last)",
      "Input \u001b[0;32mIn [12]\u001b[0m, in \u001b[0;36m<cell line: 2>\u001b[0;34m()\u001b[0m\n\u001b[1;32m      1\u001b[0m \u001b[38;5;66;03m#After you've run this cell, scroll down and you'll see the animation.\u001b[39;00m\n\u001b[0;32m----> 2\u001b[0m \u001b[43mHTML\u001b[49m(anim\u001b[38;5;241m.\u001b[39mto_jshtml())\n",
      "\u001b[0;31mNameError\u001b[0m: name 'HTML' is not defined"
     ]
    }
   ],
   "source": [
    "#After you've run this cell, scroll down and you'll see the animation.\n",
    "HTML(anim.to_jshtml())"
   ]
  },
  {
   "cell_type": "markdown",
   "id": "0603e06d",
   "metadata": {},
   "source": [
    "The weights of the players follow the **normal distribution**. The normal distribution or the Gaussian distribution appears everywhere in nature from the weights of humans to particle physics. When the amount of data increases, the plot starts to resemble the normal distribution more and more. "
   ]
  },
  {
   "cell_type": "markdown",
   "id": "22fc6c2f",
   "metadata": {},
   "source": [
    "When you run the code below, you can see the normal distribution with mean 0 and standard deviation 1."
   ]
  },
  {
   "cell_type": "code",
   "execution_count": 13,
   "id": "102f6ad4",
   "metadata": {},
   "outputs": [
    {
     "ename": "ModuleNotFoundError",
     "evalue": "No module named 'scipy'",
     "output_type": "error",
     "traceback": [
      "\u001b[0;31m---------------------------------------------------------------------------\u001b[0m",
      "\u001b[0;31mModuleNotFoundError\u001b[0m                       Traceback (most recent call last)",
      "Input \u001b[0;32mIn [13]\u001b[0m, in \u001b[0;36m<cell line: 1>\u001b[0;34m()\u001b[0m\n\u001b[0;32m----> 1\u001b[0m \u001b[38;5;28;01mimport\u001b[39;00m \u001b[38;5;21;01mscipy\u001b[39;00m\u001b[38;5;21;01m.\u001b[39;00m\u001b[38;5;21;01mstats\u001b[39;00m\n\u001b[1;32m      3\u001b[0m mu, sigma \u001b[38;5;241m=\u001b[39m scipy\u001b[38;5;241m.\u001b[39mstats\u001b[38;5;241m.\u001b[39mnorm\u001b[38;5;241m.\u001b[39mfit(weights)\n\u001b[1;32m      5\u001b[0m mu \u001b[38;5;241m=\u001b[39m \u001b[38;5;241m0\u001b[39m\n",
      "\u001b[0;31mModuleNotFoundError\u001b[0m: No module named 'scipy'"
     ]
    }
   ],
   "source": [
    "import scipy.stats\n",
    "\n",
    "mu, sigma = scipy.stats.norm.fit(weights)\n",
    "\n",
    "mu = 0\n",
    "sigma = 1\n",
    "x = np.linspace(mu - 3*sigma, mu + 3*sigma, 100)\n",
    "plt.plot(x, scipy.stats.norm.pdf(x, mu, sigma))\n",
    "plt.show()"
   ]
  },
  {
   "cell_type": "markdown",
   "id": "96073538",
   "metadata": {},
   "source": [
    "### An optional (difficult) exercise: Fit the normal distribution to the histogram above."
   ]
  }
 ],
 "metadata": {
  "kernelspec": {
   "display_name": "Python 3 (ipykernel)",
   "language": "python",
   "name": "python3"
  },
  "language_info": {
   "codemirror_mode": {
    "name": "ipython",
    "version": 3
   },
   "file_extension": ".py",
   "mimetype": "text/x-python",
   "name": "python",
   "nbconvert_exporter": "python",
   "pygments_lexer": "ipython3",
   "version": "3.8.10"
  }
 },
 "nbformat": 4,
 "nbformat_minor": 5
}