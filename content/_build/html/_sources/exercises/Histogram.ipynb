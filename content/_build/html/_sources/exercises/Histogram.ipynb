{
 "cells": [
  {
   "cell_type": "markdown",
   "id": "96195b5a",
   "metadata": {},
   "source": [
    "# Histogram\n",
    "\n",
    "**The histogram** is an extremely important tool for data-analysis. Histogram is a diagram where different values of a variable are arranged in columns, resulting in a graphical representation of the data distribution. The range of values in each column, called \"bin\", is determined before constructing the histogram. In histogram, bins are on the x-axis and the corresponding frequencies are on the y-axis."
   ]
  },
  {
   "cell_type": "markdown",
   "id": "182e103f",
   "metadata": {},
   "source": [
    "Let's use data from the NHL player statistics. The data is from [QuantHockey website](https://www.quanthockey.com/nhl/players/a.php) and it includes information about over 8000 players."
   ]
  },
  {
   "cell_type": "code",
   "execution_count": null,
   "id": "8efc0df2",
   "metadata": {},
   "outputs": [],
   "source": [
    "# Import the needed modules. Pandas is for the data-analysis, numpy for scientific calculation,\n",
    "# and matplotlib.pyplot for making plots. Modules are named as pd, np, and plt, respectively.\n",
    "import pandas as pd\n",
    "import numpy as np\n",
    "import matplotlib.pyplot as plt"
   ]
  },
  {
   "cell_type": "code",
   "execution_count": null,
   "id": "dfa8f1cb",
   "metadata": {},
   "outputs": [],
   "source": [
    "#Store the dataset in a variable.\n",
    "%matplotlib inline\n",
    "nhl_data = pd.read_csv(\"https://raw.githubusercontent.com/opendata-education/Python-ja-Jupyter/main/materiaali/harjoitukset/NHL-players.csv\")\n",
    "nhl_data.head()"
   ]
  },
  {
   "cell_type": "markdown",
   "id": "95e94e62",
   "metadata": {},
   "source": [
    "We want to inspect the distribution of the players' birth months. Would it be possible that there are much more players born in some months as opposed to others?"
   ]
  },
  {
   "cell_type": "code",
   "execution_count": null,
   "id": "37841148",
   "metadata": {},
   "outputs": [],
   "source": [
    "#Take the birhtdays from the data and modify it so that we only consider months.\n",
    "#Understanding the code here isn't important for understanding the rest of the exercise.\n",
    "birthdays = pd.to_datetime(nhl_data['Birthdate'],format='%m/%d/%Y')\n",
    "months = birthdays.dt.month"
   ]
  },
  {
   "cell_type": "code",
   "execution_count": null,
   "id": "cfdb0499",
   "metadata": {},
   "outputs": [],
   "source": [
    "#Draw a histogram of the players' birth months\n",
    "plt.hist(months, bins=12)\n",
    "plt.show()"
   ]
  },
  {
   "cell_type": "markdown",
   "id": "a86722e8",
   "metadata": {},
   "source": [
    "Great, we created our first histogram! We can make it more beautiful by naming the axes and adding other features."
   ]
  },
  {
   "cell_type": "code",
   "execution_count": null,
   "id": "f6f3a747",
   "metadata": {},
   "outputs": [],
   "source": [
    "fig, ax = plt.subplots()  #Save the figure and its axes in variables\n",
    "fig.set_figheight(6)   \n",
    "fig.set_figwidth(10)      #Adjust the size of the figure\n",
    "bins = np.arange(1,14)    #We'll use the 'arange'-method from the NumPy library in order to get the bins to the right place in the graph.\n",
    "plt.hist(months, bins=bins,edgecolor='k', align='left')  #The variable 'edgecolor' helps us to differentiate between bins. The 'align' variable aligns the bins correctly.  \n",
    "plt.title('The birth months of NHL players')  #Name the figure\n",
    "plt.xlabel('birth month')   #Name the x-axis\n",
    "plt.ylabel('frequency')     #Name the y-axis\n",
    "plt.show()"
   ]
  },
  {
   "cell_type": "markdown",
   "id": "42352686",
   "metadata": {},
   "source": [
    "Now it looks better! Changing the amount of bins we can make new observations. For example, it may be useful to see how many players are born in the first half of the year, and how many in the second half. This can be achieved by changing the amount of bins to two."
   ]
  },
  {
   "cell_type": "code",
   "execution_count": null,
   "id": "b5a25dae",
   "metadata": {},
   "outputs": [],
   "source": [
    "fig = plt.figure(figsize=(10,6))\n",
    "plt.hist(months, bins=2,edgecolor='k')\n",
    "plt.title('The birth months of NHL players')  #Name the figure\n",
    "plt.xlabel('birth month')   #Name the x-axis\n",
    "plt.ylabel('frequency')     #Name the y-axis\n",
    "plt.show()"
   ]
  },
  {
   "cell_type": "markdown",
   "id": "40055454",
   "metadata": {},
   "source": [
    "We can see that there are significantly more players born in the first half of the year. Can you figure out why this is the case?"
   ]
  },
  {
   "cell_type": "markdown",
   "id": "d403d86c",
   "metadata": {},
   "source": [
    "If your goal was to learn the very basics of histograms, reading the above is enough. Please continue reading if you want to get deeper into histograms and their properties."
   ]
  },
  {
   "cell_type": "markdown",
   "id": "cc477ec2",
   "metadata": {},
   "source": [
    "## The difference to bar charts"
   ]
  },
  {
   "cell_type": "markdown",
   "id": "bc33faeb",
   "metadata": {},
   "source": [
    "Another important tool for data-analysis is the bar chart. It is important to know the difference between the histogram and the bar chart. In a bar chart the data is separated into different categories that have no specific order between each other. The categories are represented as bars which show the frequencies. In a bar chart the bars don't touch each other, as opposed to a histogram. The order of the bars can also be changed, since they have no specific order."
   ]
  },
  {
   "cell_type": "markdown",
   "id": "bc4e314a",
   "metadata": {},
   "source": [
    "Let us next build a bar chart of the home countries of the players."
   ]
  },
  {
   "cell_type": "code",
   "execution_count": null,
   "id": "a8965edd",
   "metadata": {},
   "outputs": [],
   "source": [
    "countries = nhl_data['Country'].astype(str)    #Save the home countries of the players to a variable.\n",
    "ax = countries.value_counts().plot(kind='bar', figsize=(14,8), title=\"Players by country\")  #Draw the figure\n",
    "ax.set_xlabel(\"Countries\")    #Name the axes\n",
    "ax.set_ylabel(\"Frequency\")\n",
    "plt.show()"
   ]
  },
  {
   "cell_type": "markdown",
   "id": "ee135950",
   "metadata": {},
   "source": [
    "In the figure above the countries are arranged by how many NHL-players are from them. However, this isn't necessary. We could just as well put the countries in e.g. alphabetical order."
   ]
  },
  {
   "cell_type": "markdown",
   "id": "61b1ee13",
   "metadata": {},
   "source": [
    "## Distributions"
   ]
  },
  {
   "cell_type": "markdown",
   "id": "2023bd7c",
   "metadata": {},
   "source": [
    "With histograms, we can often approximate a distribution that shows the probability of different values of a variable. The more we have the data, the better we can approximate the distribution. Let us use the weights of the NHL-players as an example. Let's make an animation that shows how the distribution appears when we add the amount of data points. The data has been gathered from Jatkoaika.com on the 22th of June in 2022."
   ]
  },
  {
   "cell_type": "code",
   "execution_count": null,
   "id": "96777d6a",
   "metadata": {},
   "outputs": [],
   "source": [
    "#Save the biometric data of the players to a variable\n",
    "nhl_biometrics = pd.read_csv(\"https://raw.githubusercontent.com/opendata-education/Python-ja-Jupyter/main/materiaali/harjoitukset/NHL_biometrics.csv\")\n",
    "nhl_biometrics.head()"
   ]
  },
  {
   "cell_type": "code",
   "execution_count": null,
   "id": "31544b0c",
   "metadata": {},
   "outputs": [],
   "source": [
    "#Save the weights of the players to a variable\n",
    "weights = nhl_biometrics['Weight (kg)']"
   ]
  },
  {
   "cell_type": "code",
   "execution_count": null,
   "id": "5e40e2e5",
   "metadata": {},
   "outputs": [],
   "source": [
    "#Import the needed libraries\n",
    "import matplotlib.animation as animation\n",
    "from scipy.stats import norm\n",
    "\n",
    "def updt_hist(num, weights):\n",
    "    plt.cla()\n",
    "    plt.xlim((70,120))\n",
    "    plt.hist(weights[:num*10], bins = 50)\n",
    "    plt.gca().set_title('Normal distribution from the weights of the players')\n",
    "    plt.gca().set_ylabel('frequency')\n",
    "    plt.gca().set_xlabel('weight (kg)')"
   ]
  },
  {
   "cell_type": "code",
   "execution_count": null,
   "id": "a53fc987",
   "metadata": {},
   "outputs": [],
   "source": [
    "%%capture\n",
    "#This so-called magic-function stops extra frames from appearing on the screen during the animation.\n",
    "\n",
    "#Initialize the figure\n",
    "fig = plt.figure(figsize=(15,10))\n",
    "\n",
    "#Make the animation\n",
    "anim = animation.FuncAnimation(fig, updt_hist, frames = 100, fargs = (weights,))\n",
    "\n",
    "#Make an HTML representation of the animation\n",
    "from IPython.display import HTML\n",
    "HTML(anim.to_jshtml())"
   ]
  },
  {
   "cell_type": "code",
   "execution_count": null,
   "id": "0378227e",
   "metadata": {},
   "outputs": [],
   "source": [
    "#After you've run this cell, scroll down and you'll see the animation.\n",
    "HTML(anim.to_jshtml())"
   ]
  },
  {
   "cell_type": "markdown",
   "id": "0603e06d",
   "metadata": {},
   "source": [
    "The weights of the players follow the **normal distribution**. The normal distribution or the Gaussian distribution appears everywhere in nature from the weights of humans to particle physics. When the amount of data increases, the plot starts to resemble the normal distribution more and more. "
   ]
  },
  {
   "cell_type": "markdown",
   "id": "22fc6c2f",
   "metadata": {},
   "source": [
    "When you run the code below, you can see the normal distribution with mean 0 and standard deviation 1."
   ]
  },
  {
   "cell_type": "code",
   "execution_count": null,
   "id": "102f6ad4",
   "metadata": {},
   "outputs": [],
   "source": [
    "import scipy.stats\n",
    "\n",
    "mu, sigma = scipy.stats.norm.fit(weights)\n",
    "\n",
    "mu = 0\n",
    "sigma = 1\n",
    "x = np.linspace(mu - 3*sigma, mu + 3*sigma, 100)\n",
    "plt.plot(x, scipy.stats.norm.pdf(x, mu, sigma))\n",
    "plt.show()"
   ]
  },
  {
   "cell_type": "markdown",
   "id": "96073538",
   "metadata": {},
   "source": [
    "### An optional (difficult) exercise: Fit the normal distribution to the histogram above."
   ]
  }
 ],
 "metadata": {
  "kernelspec": {
   "display_name": "Python 3 (ipykernel)",
   "language": "python",
   "name": "python3"
  },
  "language_info": {
   "codemirror_mode": {
    "name": "ipython",
    "version": 3
   },
   "file_extension": ".py",
   "mimetype": "text/x-python",
   "name": "python",
   "nbconvert_exporter": "python",
   "pygments_lexer": "ipython3",
   "version": "3.9.12"
  }
 },
 "nbformat": 4,
 "nbformat_minor": 5
}
